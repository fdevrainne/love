{
 "cells": [
  {
   "cell_type": "code",
   "execution_count": 1,
   "metadata": {},
   "outputs": [],
   "source": [
    "import pandas as pd, numpy as np\n",
    "import random"
   ]
  },
  {
   "cell_type": "markdown",
   "metadata": {},
   "source": [
    "# Déclaration des signes astrologiques \n",
    "\n",
    "J'ai pris pour simplifier seulement 4 signes astrologiques (\"bélier\",\"taureau\",\"gémeaux\",\"cancer\"). <br> Pour chaque signe astrologique, j'établis une liste de signe astrologique comptatible.<br>\n",
    "Par exemple le bélier est compatible et avec les taureau et avec les cancer."
   ]
  },
  {
   "cell_type": "code",
   "execution_count": 2,
   "metadata": {},
   "outputs": [],
   "source": [
    "signe_astro = [\"bélier\",\"taureau\",\"gémeaux\",\"cancer\"]\n",
    "\n",
    "compatibilite = {\"bélier\":[ \"taureau\",\"cancer\"],\n",
    "                \"taureau\":[\"gémeaux\"],\n",
    "                \"gémeaux\": [\"taureau\"],\n",
    "                \"cancer\": [\"bélier\",\"taureau\",\"gémeaux\"]}"
   ]
  },
  {
   "cell_type": "markdown",
   "metadata": {},
   "source": [
    "# Je crée une base fictive\n",
    "\n",
    "C'est la le format de la base user que vous me fourniriez. <br>\n",
    "Elle est visible ci-dessous. J'ai choisi un nombre de 20 utilisateurs pour que la sortie de l'algorithme soit plus facilement interprétable. <br>\n",
    "Et seulement 3 colonnes : le signe astrologique, la taille et la préférences de taille."
   ]
  },
  {
   "cell_type": "code",
   "execution_count": 3,
   "metadata": {},
   "outputs": [
    {
     "data": {
      "text/html": [
       "<div>\n",
       "<style scoped>\n",
       "    .dataframe tbody tr th:only-of-type {\n",
       "        vertical-align: middle;\n",
       "    }\n",
       "\n",
       "    .dataframe tbody tr th {\n",
       "        vertical-align: top;\n",
       "    }\n",
       "\n",
       "    .dataframe thead th {\n",
       "        text-align: right;\n",
       "    }\n",
       "</style>\n",
       "<table border=\"1\" class=\"dataframe\">\n",
       "  <thead>\n",
       "    <tr style=\"text-align: right;\">\n",
       "      <th></th>\n",
       "      <th>user_id</th>\n",
       "      <th>signe_astro</th>\n",
       "      <th>taille</th>\n",
       "      <th>taille_pref</th>\n",
       "    </tr>\n",
       "  </thead>\n",
       "  <tbody>\n",
       "    <tr>\n",
       "      <th>0</th>\n",
       "      <td>0</td>\n",
       "      <td>cancer</td>\n",
       "      <td>183</td>\n",
       "      <td>161</td>\n",
       "    </tr>\n",
       "    <tr>\n",
       "      <th>1</th>\n",
       "      <td>1</td>\n",
       "      <td>taureau</td>\n",
       "      <td>168</td>\n",
       "      <td>163</td>\n",
       "    </tr>\n",
       "    <tr>\n",
       "      <th>2</th>\n",
       "      <td>2</td>\n",
       "      <td>bélier</td>\n",
       "      <td>174</td>\n",
       "      <td>170</td>\n",
       "    </tr>\n",
       "    <tr>\n",
       "      <th>3</th>\n",
       "      <td>3</td>\n",
       "      <td>bélier</td>\n",
       "      <td>179</td>\n",
       "      <td>177</td>\n",
       "    </tr>\n",
       "    <tr>\n",
       "      <th>4</th>\n",
       "      <td>4</td>\n",
       "      <td>bélier</td>\n",
       "      <td>178</td>\n",
       "      <td>170</td>\n",
       "    </tr>\n",
       "    <tr>\n",
       "      <th>5</th>\n",
       "      <td>5</td>\n",
       "      <td>bélier</td>\n",
       "      <td>187</td>\n",
       "      <td>166</td>\n",
       "    </tr>\n",
       "    <tr>\n",
       "      <th>6</th>\n",
       "      <td>6</td>\n",
       "      <td>bélier</td>\n",
       "      <td>186</td>\n",
       "      <td>164</td>\n",
       "    </tr>\n",
       "    <tr>\n",
       "      <th>7</th>\n",
       "      <td>7</td>\n",
       "      <td>bélier</td>\n",
       "      <td>184</td>\n",
       "      <td>176</td>\n",
       "    </tr>\n",
       "    <tr>\n",
       "      <th>8</th>\n",
       "      <td>8</td>\n",
       "      <td>gémeaux</td>\n",
       "      <td>189</td>\n",
       "      <td>179</td>\n",
       "    </tr>\n",
       "    <tr>\n",
       "      <th>9</th>\n",
       "      <td>9</td>\n",
       "      <td>cancer</td>\n",
       "      <td>162</td>\n",
       "      <td>160</td>\n",
       "    </tr>\n",
       "    <tr>\n",
       "      <th>10</th>\n",
       "      <td>10</td>\n",
       "      <td>gémeaux</td>\n",
       "      <td>160</td>\n",
       "      <td>160</td>\n",
       "    </tr>\n",
       "    <tr>\n",
       "      <th>11</th>\n",
       "      <td>11</td>\n",
       "      <td>cancer</td>\n",
       "      <td>168</td>\n",
       "      <td>166</td>\n",
       "    </tr>\n",
       "    <tr>\n",
       "      <th>12</th>\n",
       "      <td>12</td>\n",
       "      <td>taureau</td>\n",
       "      <td>173</td>\n",
       "      <td>168</td>\n",
       "    </tr>\n",
       "    <tr>\n",
       "      <th>13</th>\n",
       "      <td>13</td>\n",
       "      <td>cancer</td>\n",
       "      <td>186</td>\n",
       "      <td>162</td>\n",
       "    </tr>\n",
       "    <tr>\n",
       "      <th>14</th>\n",
       "      <td>14</td>\n",
       "      <td>gémeaux</td>\n",
       "      <td>161</td>\n",
       "      <td>173</td>\n",
       "    </tr>\n",
       "    <tr>\n",
       "      <th>15</th>\n",
       "      <td>15</td>\n",
       "      <td>cancer</td>\n",
       "      <td>172</td>\n",
       "      <td>181</td>\n",
       "    </tr>\n",
       "    <tr>\n",
       "      <th>16</th>\n",
       "      <td>16</td>\n",
       "      <td>cancer</td>\n",
       "      <td>174</td>\n",
       "      <td>177</td>\n",
       "    </tr>\n",
       "    <tr>\n",
       "      <th>17</th>\n",
       "      <td>17</td>\n",
       "      <td>taureau</td>\n",
       "      <td>160</td>\n",
       "      <td>174</td>\n",
       "    </tr>\n",
       "    <tr>\n",
       "      <th>18</th>\n",
       "      <td>18</td>\n",
       "      <td>gémeaux</td>\n",
       "      <td>160</td>\n",
       "      <td>185</td>\n",
       "    </tr>\n",
       "    <tr>\n",
       "      <th>19</th>\n",
       "      <td>19</td>\n",
       "      <td>bélier</td>\n",
       "      <td>189</td>\n",
       "      <td>177</td>\n",
       "    </tr>\n",
       "  </tbody>\n",
       "</table>\n",
       "</div>"
      ],
      "text/plain": [
       "    user_id signe_astro  taille  taille_pref\n",
       "0         0      cancer     183          161\n",
       "1         1     taureau     168          163\n",
       "2         2      bélier     174          170\n",
       "3         3      bélier     179          177\n",
       "4         4      bélier     178          170\n",
       "5         5      bélier     187          166\n",
       "6         6      bélier     186          164\n",
       "7         7      bélier     184          176\n",
       "8         8     gémeaux     189          179\n",
       "9         9      cancer     162          160\n",
       "10       10     gémeaux     160          160\n",
       "11       11      cancer     168          166\n",
       "12       12     taureau     173          168\n",
       "13       13      cancer     186          162\n",
       "14       14     gémeaux     161          173\n",
       "15       15      cancer     172          181\n",
       "16       16      cancer     174          177\n",
       "17       17     taureau     160          174\n",
       "18       18     gémeaux     160          185\n",
       "19       19      bélier     189          177"
      ]
     },
     "execution_count": 3,
     "metadata": {},
     "output_type": "execute_result"
    }
   ],
   "source": [
    "n_user = 20\n",
    "\n",
    "signe_astro_col = [random.choice(signe_astro) for _ in range(n_user)]\n",
    "taille_col = np.random.randint(160,190,size=(n_user))\n",
    "taille_pref_col = np.random.randint(160,190,size=(n_user))\n",
    "\n",
    "data = {\"user_id\":range(n_user),\n",
    "    \"signe_astro\":signe_astro_col,\n",
    "       \"taille\":taille_col,\n",
    "       \"taille_pref\":taille_pref_col}\n",
    "\n",
    "df = pd.DataFrame(data)\n",
    "df"
   ]
  },
  {
   "cell_type": "markdown",
   "metadata": {},
   "source": [
    "# Arbre de décision\n",
    "\n",
    "C'est là le format de l'arbe de décision que vous devrez établir. <br> J'ai pris un exemple simple basé sur la taille et sur le signe astrologique. <br>\n",
    "Je suppose donc que tous les users sont bisexuels pour simplifier les choses."
   ]
  },
  {
   "cell_type": "markdown",
   "metadata": {},
   "source": [
    "![Règles](rules.png)"
   ]
  },
  {
   "cell_type": "markdown",
   "metadata": {},
   "source": [
    "# Traduction de l'arbre de décision en algorithme"
   ]
  },
  {
   "cell_type": "code",
   "execution_count": 4,
   "metadata": {},
   "outputs": [],
   "source": [
    "def is_compatible(user1,user2):\n",
    "    if (user2[\"taille\"] < user1[\"taille_pref\"] +5) & (user2[\"taille\"] > user1[\"taille_pref\"] -5):\n",
    "        if user2[\"signe_astro\"] in compatibilite[user1[\"signe_astro\"]]:\n",
    "            return 1\n",
    "    else:\n",
    "        return 0"
   ]
  },
  {
   "cell_type": "markdown",
   "metadata": {},
   "source": [
    "# Pour chaque user, je cherche tous les autres user compatibles\n",
    "\n",
    "Selon les règles de l'arbre de décision plus haut"
   ]
  },
  {
   "cell_type": "code",
   "execution_count": 5,
   "metadata": {},
   "outputs": [],
   "source": [
    "compatibilite_df = {}\n",
    "for index, row in df.iterrows():\n",
    "    compatibilite_df[row[\"user_id\"]] = []\n",
    "    for _, row_bis in df[df.user_id!=row[\"user_id\"]].iterrows():\n",
    "        if is_compatible(row,row_bis)==1:\n",
    "            compatibilite_df[row[\"user_id\"]].append(row_bis[\"user_id\"])  "
   ]
  },
  {
   "cell_type": "markdown",
   "metadata": {},
   "source": [
    "# Sortie de l'algorithme\n",
    "\n",
    "Ci dessous la sortie de l'algorithme. Pour chaque user on a une liste de user compatible/"
   ]
  },
  {
   "cell_type": "code",
   "execution_count": 6,
   "metadata": {},
   "outputs": [
    {
     "data": {
      "text/plain": [
       "{0: [10, 14, 17, 18],\n",
       " 1: [10, 14, 18],\n",
       " 2: [1, 11, 12, 15, 16],\n",
       " 3: [12, 16],\n",
       " 4: [1, 11, 12, 15, 16],\n",
       " 5: [1, 9, 11],\n",
       " 6: [1, 9, 11, 17],\n",
       " 7: [12, 15, 16],\n",
       " 8: [],\n",
       " 9: [10, 14, 17, 18],\n",
       " 10: [17],\n",
       " 11: [1],\n",
       " 12: [],\n",
       " 13: [10, 14, 17, 18],\n",
       " 14: [12],\n",
       " 15: [3, 4, 7],\n",
       " 16: [2, 3, 4, 12],\n",
       " 17: [],\n",
       " 18: [],\n",
       " 19: [12, 16]}"
      ]
     },
     "execution_count": 6,
     "metadata": {},
     "output_type": "execute_result"
    }
   ],
   "source": [
    "compatibilite_df"
   ]
  },
  {
   "cell_type": "markdown",
   "metadata": {},
   "source": [
    "On remarque que le user 8 n'a aucun user compatible. <br>\n",
    "On remarque aussi  que le user 15 est compatible avec les user 3,4,7. <br>\n",
    "Ci-dessous, deux tables : \n",
    "* le user_id 15\n",
    "* les user compatible avec lui (user_id : 3,4,7)"
   ]
  },
  {
   "cell_type": "markdown",
   "metadata": {},
   "source": [
    "# Exemple de sortie pour le user_id 15"
   ]
  },
  {
   "cell_type": "code",
   "execution_count": 10,
   "metadata": {},
   "outputs": [
    {
     "data": {
      "text/html": [
       "<div>\n",
       "<style scoped>\n",
       "    .dataframe tbody tr th:only-of-type {\n",
       "        vertical-align: middle;\n",
       "    }\n",
       "\n",
       "    .dataframe tbody tr th {\n",
       "        vertical-align: top;\n",
       "    }\n",
       "\n",
       "    .dataframe thead th {\n",
       "        text-align: right;\n",
       "    }\n",
       "</style>\n",
       "<table border=\"1\" class=\"dataframe\">\n",
       "  <thead>\n",
       "    <tr style=\"text-align: right;\">\n",
       "      <th></th>\n",
       "      <th>user_id</th>\n",
       "      <th>signe_astro</th>\n",
       "      <th>taille</th>\n",
       "      <th>taille_pref</th>\n",
       "    </tr>\n",
       "  </thead>\n",
       "  <tbody>\n",
       "    <tr>\n",
       "      <th>15</th>\n",
       "      <td>15</td>\n",
       "      <td>cancer</td>\n",
       "      <td>172</td>\n",
       "      <td>181</td>\n",
       "    </tr>\n",
       "  </tbody>\n",
       "</table>\n",
       "</div>"
      ],
      "text/plain": [
       "    user_id signe_astro  taille  taille_pref\n",
       "15       15      cancer     172          181"
      ]
     },
     "execution_count": 10,
     "metadata": {},
     "output_type": "execute_result"
    }
   ],
   "source": [
    "df[df.user_id.isin([15])]"
   ]
  },
  {
   "cell_type": "code",
   "execution_count": 12,
   "metadata": {},
   "outputs": [
    {
     "data": {
      "text/html": [
       "<div>\n",
       "<style scoped>\n",
       "    .dataframe tbody tr th:only-of-type {\n",
       "        vertical-align: middle;\n",
       "    }\n",
       "\n",
       "    .dataframe tbody tr th {\n",
       "        vertical-align: top;\n",
       "    }\n",
       "\n",
       "    .dataframe thead th {\n",
       "        text-align: right;\n",
       "    }\n",
       "</style>\n",
       "<table border=\"1\" class=\"dataframe\">\n",
       "  <thead>\n",
       "    <tr style=\"text-align: right;\">\n",
       "      <th></th>\n",
       "      <th>user_id</th>\n",
       "      <th>signe_astro</th>\n",
       "      <th>taille</th>\n",
       "      <th>taille_pref</th>\n",
       "    </tr>\n",
       "  </thead>\n",
       "  <tbody>\n",
       "    <tr>\n",
       "      <th>3</th>\n",
       "      <td>3</td>\n",
       "      <td>bélier</td>\n",
       "      <td>179</td>\n",
       "      <td>177</td>\n",
       "    </tr>\n",
       "    <tr>\n",
       "      <th>4</th>\n",
       "      <td>4</td>\n",
       "      <td>bélier</td>\n",
       "      <td>178</td>\n",
       "      <td>170</td>\n",
       "    </tr>\n",
       "    <tr>\n",
       "      <th>7</th>\n",
       "      <td>7</td>\n",
       "      <td>bélier</td>\n",
       "      <td>184</td>\n",
       "      <td>176</td>\n",
       "    </tr>\n",
       "  </tbody>\n",
       "</table>\n",
       "</div>"
      ],
      "text/plain": [
       "   user_id signe_astro  taille  taille_pref\n",
       "3        3      bélier     179          177\n",
       "4        4      bélier     178          170\n",
       "7        7      bélier     184          176"
      ]
     },
     "execution_count": 12,
     "metadata": {},
     "output_type": "execute_result"
    }
   ],
   "source": [
    "df[df.user_id.isin([3,4,7])]"
   ]
  },
  {
   "cell_type": "markdown",
   "metadata": {},
   "source": [
    "On remarque que les règles de taille et de compatibilité de signe astro ont été respecté."
   ]
  }
 ],
 "metadata": {
  "kernelspec": {
   "display_name": "Python 3",
   "language": "python",
   "name": "python3"
  },
  "language_info": {
   "codemirror_mode": {
    "name": "ipython",
    "version": 3
   },
   "file_extension": ".py",
   "mimetype": "text/x-python",
   "name": "python",
   "nbconvert_exporter": "python",
   "pygments_lexer": "ipython3",
   "version": "3.9.0"
  }
 },
 "nbformat": 4,
 "nbformat_minor": 4
}
